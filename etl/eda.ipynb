{
 "cells": [
  {
   "cell_type": "code",
   "execution_count": null,
   "id": "cfd92999",
   "metadata": {},
   "outputs": [],
   "source": [
    "import json\n",
    "import pathlib \n",
    "import requests \n",
    "import pandas as pd\n",
    "from urllib.parse import urlencode\n",
    "import pathlib  # módulo para manejar paths de forma portable (Windows/macOS/Linux)"
   ]
  },
  {
   "cell_type": "code",
   "execution_count": null,
   "id": "147e3892",
   "metadata": {},
   "outputs": [],
   "source": [
    "# Endpoint base del servicio OData v2 (Northwind público)\n",
    "BASE_URL = \"https://services.odata.org/V2/Northwind/Northwind.svc\"\n",
    "\n",
    "# Carpeta de caché local. para no descargar siempre de la red\n",
    "\n",
    "CACHE = pathlib.Path(\"data_cache\")          # crea un objeto \"Path\" que apunta a ./data_cache\n",
    "CACHE.mkdir(parents=True, exist_ok=True)    # crea la carpeta si no existe (parents=True por si faltan carpetas intermedias)"
   ]
  },
  {
   "cell_type": "code",
   "execution_count": null,
   "id": "bca9c957",
   "metadata": {},
   "outputs": [],
   "source": [
    "def odata_to_df(entity: str, \n",
    "                select: str | None = None, \n",
    "                page_size: int = 500, \n",
    "                use_cache: bool = True) -> pd.DataFrame:\n",
    "    \"\"\"\n",
    "    Descarga TODOS los registros de una entidad OData v2 (Northwind) y los devuelve como DataFrame.\n",
    "    - entity: nombre de la colección (p. ej., \"Orders\", \"Customers\", \"Order_Details\").\n",
    "    - select: columnas opcionales separadas por coma para $select (reduce ancho de respuesta).\n",
    "    - page_size: tamaño de página para paginación ($top / $skip).\n",
    "    - use_cache: si True, guarda/lee un JSON local para acelerar iteraciones.\n",
    "\n",
    "    Implementa paginación v2:\n",
    "      - pide $top=page_size y va incrementando $skip hasta que la página devuelta tenga < page_size filas.\n",
    "    Estructura JSON v2 esperada: {\"d\": {\"results\": [ ...filas... ]}}\n",
    "    \"\"\"\n",
    "    # Archivo de caché local (por entidad)\n",
    "    cache_file = CACHE / f\"{entity}.json\"\n",
    "\n",
    "    # Si existe caché y se permite, leemos desde disco (sin pegarle al endpoint)\n",
    "    if use_cache and cache_file.exists():\n",
    "        rows = json.loads(cache_file.read_text(encoding=\"utf=-8\"))\n",
    "        return pd.DataFrame(rows)\n",
    "\n",
    "    # Armamos los parámetros base de OData\n",
    "    params = {\"$format\" : \"json\"} # pedimos JSON (v2 puede dar XML si no se aclara)\n",
    "    if select:\n",
    "        params [\"$select\"] = select\n",
    "\n",
    "    # Paginación con $top/$skip\n",
    "    rows, skip = [], 0\n",
    "    while True:\n",
    "        # Unimos params \"base\" con la paginación para esta página\n",
    "        q = params | {\"$top\": page_size, \"$skip\": skip}\n",
    "        # Construimos la URL final: BASE_URL/<entity>?<querystring>\n",
    "        url = f\"{BASE_URL}/{entity}?{urlencode(q)}\"\n",
    "\n",
    "        # Llamada HTTP GET con timeout (evita quedarte colgado)\n",
    "        r = requests.get(url, timeout=60)\n",
    "        # Si algo salió mal (HTTP 4xx/5xx), levanta excepción con detalle\n",
    "        r.raise_for_status()\n",
    "\n",
    "        # OData V2 (Northwind) envuelve resultados en d.results\n",
    "        page = r.json().get(\"d\", {}).get(\"results\", [])\n",
    "        rows.extend(page)\n",
    "\n",
    "        # Condición de fin: si la página trae menos de page_size filas, no hay más\n",
    "        if len(page) < page_size:\n",
    "            break\n",
    "\n",
    "\n",
    "        # Preparamos siguiente iteración: saltamos lo ya leído\n",
    "        skip += page_size\n",
    "\n",
    "    # Si hay que cachear, guardamos JSON a disco para acelerar próximos análisis\n",
    "    if use_cache:\n",
    "        cache_file.write_text(json.dumps(rows), encoding=\"utf-8\")\n",
    "\n",
    "    # Devolvemos DataFrame listo para tu EDA\n",
    "    return pd.DataFrame(rows)"
   ]
  },
  {
   "cell_type": "code",
   "execution_count": null,
   "id": "5c946ff8",
   "metadata": {},
   "outputs": [],
   "source": []
  }
 ],
 "metadata": {
  "kernelspec": {
   "display_name": ".venv",
   "language": "python",
   "name": "python3"
  },
  "language_info": {
   "codemirror_mode": {
    "name": "ipython",
    "version": 3
   },
   "file_extension": ".py",
   "mimetype": "text/x-python",
   "name": "python",
   "nbconvert_exporter": "python",
   "pygments_lexer": "ipython3",
   "version": "3.11.0"
  }
 },
 "nbformat": 4,
 "nbformat_minor": 5
}
