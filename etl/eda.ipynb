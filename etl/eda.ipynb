{
 "cells": [
  {
   "cell_type": "code",
   "execution_count": 6,
   "id": "cfd92999",
   "metadata": {},
   "outputs": [],
   "source": [
    "import json\n",
    "import pathlib \n",
    "import requests \n",
    "import pandas as pd\n",
    "from urllib.parse import urlencode"
   ]
  },
  {
   "cell_type": "code",
   "execution_count": null,
   "id": "147e3892",
   "metadata": {},
   "outputs": [],
   "source": [
    "# Agregar comentarios de Gepecito\n",
    "BASE_URL = \"https://services.odata.org/V2/Northwind/Northwind.svc\"\n",
    "CACHE = pathlib(\"data_cache\")\n",
    "CACHE.mkdir(exist_ok=True)"
   ]
  },
  {
   "cell_type": "code",
   "execution_count": null,
   "id": "bca9c957",
   "metadata": {},
   "outputs": [],
   "source": [
    "def odata_to_df(entity, select=None, page_size=500, use_cache=True):\n",
    "    \"\"\"\n",
    "    Descarga TODOS los registros de una entidad ODATA V2 (Northwind) y los devuelve como DataFrame.\n",
    "    Cachea en data_cache/<entity>.json para acelerar iteraciones.\n",
    "    \"\"\"\n",
    "    cache_file = CACHE / f\"{entity}.json\"\n",
    "    "
   ]
  },
  {
   "cell_type": "code",
   "execution_count": null,
   "id": "5c946ff8",
   "metadata": {},
   "outputs": [],
   "source": []
  }
 ],
 "metadata": {
  "kernelspec": {
   "display_name": ".venv",
   "language": "python",
   "name": "python3"
  },
  "language_info": {
   "codemirror_mode": {
    "name": "ipython",
    "version": 3
   },
   "file_extension": ".py",
   "mimetype": "text/x-python",
   "name": "python",
   "nbconvert_exporter": "python",
   "pygments_lexer": "ipython3",
   "version": "3.11.0"
  }
 },
 "nbformat": 4,
 "nbformat_minor": 5
}
